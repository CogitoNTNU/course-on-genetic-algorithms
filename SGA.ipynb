{
 "cells": [
  {
   "cell_type": "markdown",
   "metadata": {},
   "source": [
    "Simple Genetic Algorithm"
   ]
  },
  {
   "cell_type": "code",
   "execution_count": null,
   "metadata": {},
   "outputs": [],
   "source": [
    "# Imports\n",
    "import random\n",
    "import pickle\n",
    "import copy\n",
    "import itertools\n",
    "import math\n",
    "import multiprocessing as mp\n",
    "import flappy_bird_gymnasium\n",
    "import gymnasium"
   ]
  },
  {
   "cell_type": "code",
   "execution_count": null,
   "metadata": {},
   "outputs": [],
   "source": [
    "# Utils:\n",
    "# Activation functions (used in forward pass, but not in the scope of the course)\n",
    "\n",
    "def sigmoid(x):\n",
    "    \"\"\"Return the S-Curve activation of x.\"\"\"\n",
    "    return 1/(1+math.exp(-x))\n",
    "\n",
    "def tanh(x):\n",
    "    \"\"\"Wrapper function for hyperbolic tangent activation.\"\"\"\n",
    "    return math.tanh(x)\n",
    "\n",
    "def LReLU(x):\n",
    "    \"\"\"Leaky ReLU function for x\"\"\"\n",
    "    if x >= 0:\n",
    "        return x\n",
    "    else:\n",
    "        return 0.01 * x"
   ]
  },
  {
   "cell_type": "markdown",
   "metadata": {},
   "source": [
    "**Hyperparameters**\n",
    "\n",
    "- delta_threshold - (?) The threshold used to determine wether an agent belongs to a specific  specie\n",
    "- distance_weights - The weights used to determine the genomic distance between geneotypes, used in speciation.\n",
    "        - edge: the synapse/connection between two neurons\n",
    "        - weight: the value given to the edge\n",
    "        - bias: the bias value of the node\n",
    "- default_activation - the activation function used in forward pass. In this course we can choose between LReLU, tanh and sigmoid. \n",
    "- max_fitness - Stop condition. The desiered fitness value that stops the evolution when reached\n",
    "- max_generations - Stop condition. The number of generations before the evolution stops if max_fitness is not reached.\n",
    "- max_fitness_history: (?) The number of max fitness for a generation that is kept track on.\n",
    "- breed_probabilities - We have sexual and asexual crossover/breeding in this algorithm, and there is a random chance which one is chosen.\n",
    "- mutation_probabilities - the probabilities for each type of mutation\n",
    "            'node' : add or remove a node,\n",
    "            'edge' : add or remove an edge,\n",
    "            'weight_perturb' : perturburate a weight,\n",
    "            'weight_set' : set a new value to a weight,\n",
    "            'bias_perturb' : perturburate a bias,\n",
    "            'bias_set: set a new value to a bias.\n",
    "\n",
    "\n"
   ]
  },
  {
   "cell_type": "code",
   "execution_count": null,
   "metadata": {},
   "outputs": [],
   "source": [
    "class Hyperparameters(object):\n",
    "    \"\"\"Hyperparameter settings.\"\"\"\n",
    "    def __init__(self):\n",
    "        self.delta_threshold = 1.5\n",
    "        self.distance_weights = {\n",
    "            'edge' : 1.0,\n",
    "            'weight' : 1.0,\n",
    "            'bias' : 1.0\n",
    "        }\n",
    "        self.default_activation = sigmoid\n",
    "\n",
    "        self.max_fitness = float('inf')\n",
    "        self.max_generations = float('inf')\n",
    "        self.max_fitness_history = 30\n",
    "\n",
    "        self.breed_probabilities = {\n",
    "            'asexual' : 0.5,\n",
    "            'sexual' : 0.5\n",
    "        }\n",
    "        self.mutation_probabilities = {\n",
    "            'node' : 0.01,\n",
    "            'edge' : 0.09,\n",
    "            'weight_perturb' : 0.4,\n",
    "            'weight_set' : 0.1,\n",
    "            'bias_perturb' : 0.3,\n",
    "            'bias_set' : 0.1\n",
    "        }\n"
   ]
  },
  {
   "cell_type": "markdown",
   "metadata": {},
   "source": [
    "**Defining the neural network**\n",
    "The neural network of each agent will be defined by the genome if the individual. The genes will consist of data for nodes and edges. therefore we need to establish an Edge class and a Node class that keeps track on the weighs and biases, activation, output and whether the edge is enabled. "
   ]
  },
  {
   "cell_type": "code",
   "execution_count": null,
   "metadata": {},
   "outputs": [],
   "source": [
    "class Edge(object):\n",
    "    \"\"\"A gene object representing an edge in the neural network.\"\"\"\n",
    "    def __init__(self, weight):\n",
    "        self.weight = weight\n",
    "        self.enabled = True\n",
    "\n",
    "\n",
    "class Node(object):\n",
    "    \"\"\"A gene object representing a node in the neural network.\"\"\"\n",
    "    def __init__(self, activation):\n",
    "        self.output = 0\n",
    "        self.bias = 0\n",
    "        self.activation = activation\n",
    "        \n",
    "\n",
    "    "
   ]
  }
 ],
 "metadata": {
  "kernelspec": {
   "display_name": "venv",
   "language": "python",
   "name": "python3"
  },
  "language_info": {
   "name": "python",
   "version": "3.12.7"
  }
 },
 "nbformat": 4,
 "nbformat_minor": 2
}
